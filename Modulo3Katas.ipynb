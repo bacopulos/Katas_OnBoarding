{
 "cells": [
  {
   "cell_type": "code",
   "execution_count": 1,
   "metadata": {},
   "outputs": [
    {
     "name": "stdout",
     "output_type": "stream",
     "text": [
      "advertencia. asteroide se acerca a la tierra demasiado rápido\n"
     ]
    }
   ],
   "source": [
    "velocidad_del_asteroide = 49\n",
    "\n",
    "if velocidad_del_asteroide> 25:\n",
    "    print(\"advertencia. asteroide se acerca a la tierra demasiado rápido\")\n",
    "else:\n",
    "    print(\"todo bien\")"
   ]
  },
  {
   "cell_type": "code",
   "execution_count": 2,
   "metadata": {},
   "outputs": [
    {
     "name": "stdout",
     "output_type": "stream",
     "text": [
      "nada que ver\n"
     ]
    }
   ],
   "source": [
    "velocidad_del_asteroide = 19\n",
    "\n",
    "if velocidad_del_asteroide > 20:\n",
    "    print(\"se puede ver un rayo de luz\")\n",
    "elif velocidad_del_asteroide == 20:\n",
    "    print(\"se puede ver un rayo de luz\")\n",
    "else:\n",
    "    print(\"nada que ver\")"
   ]
  },
  {
   "cell_type": "code",
   "execution_count": 4,
   "metadata": {},
   "outputs": [
    {
     "name": "stdout",
     "output_type": "stream",
     "text": [
      "peligro, tamaño de asteroide causará mucho daño\n",
      "se puede ver rayo de luz pero velocidad de asteroide no peligrosa\n"
     ]
    }
   ],
   "source": [
    "velocidad_del_asteroide = 25\n",
    "tamaño_de_asteroide = 40\n",
    "\n",
    "if tamaño_de_asteroide > 25 and tamaño_de_asteroide < 1000:\n",
    "    print(\"peligro, tamaño de asteroide causará mucho daño\")\n",
    "elif tamaño_de_asteroide <= 25:\n",
    "    print(\"tamaño de asteroide no peligroso\")\n",
    "if velocidad_del_asteroide >25:\n",
    "    print(\"asteroide se acerca a velocidad peligrosa\")\n",
    "elif velocidad_del_asteroide >=20 and velocidad_del_asteroide <=25:\n",
    "    print(\"se puede ver rayo de luz pero velocidad de asteroide no peligrosa\")\n",
    "else:\n",
    "    print(\"nada que ver\")"
   ]
  }
 ],
 "metadata": {
  "interpreter": {
   "hash": "20f3a3bb5160651777c944a024b20b27b2c35a96405cb542a3a32b8e971ae875"
  },
  "kernelspec": {
   "display_name": "Python 3.9.10 64-bit (windows store)",
   "language": "python",
   "name": "python3"
  },
  "language_info": {
   "codemirror_mode": {
    "name": "ipython",
    "version": 3
   },
   "file_extension": ".py",
   "mimetype": "text/x-python",
   "name": "python",
   "nbconvert_exporter": "python",
   "pygments_lexer": "ipython3",
   "version": "3.9.10"
  },
  "orig_nbformat": 4
 },
 "nbformat": 4,
 "nbformat_minor": 2
}
