{
 "cells": [
  {
   "cell_type": "markdown",
   "metadata": {},
   "source": [
    "# Ejercicio: Uso de funciones en Python\n",
    "## Ejercicio 1: Trabajar con argumentos en funciones"
   ]
  },
  {
   "cell_type": "code",
   "execution_count": 10,
   "metadata": {},
   "outputs": [],
   "source": [
    "def informeTanques(tanque1, tanque2, tanque3):\n",
    "    promedio = (tanque1 + tanque2 + tanque3) / 3\n",
    "    return f\"\"\"El tanque 1 tiene: {tanque1}%\n",
    "El tanque 2 tiene: {tanque2}%\n",
    "El tanque 3 tiene: {tanque3}%\n",
    "El promedio de los tanques es {promedio}%\n",
    "\"\"\""
   ]
  },
  {
   "cell_type": "code",
   "execution_count": 11,
   "metadata": {},
   "outputs": [
    {
     "name": "stdout",
     "output_type": "stream",
     "text": [
      "El tanque 1 tiene: 30%\n",
      "El tanque 2 tiene: 50%\n",
      "El tanque 3 tiene: 40%\n",
      "El promedio de los tanques es 40.0%\n",
      "\n"
     ]
    }
   ],
   "source": [
    "print(informeTanques(30,50,40))"
   ]
  },
  {
   "cell_type": "code",
   "execution_count": 19,
   "metadata": {},
   "outputs": [
    {
     "data": {
      "text/plain": [
       "40.0"
      ]
     },
     "execution_count": 19,
     "metadata": {},
     "output_type": "execute_result"
    }
   ],
   "source": [
    "def promedio(values):\n",
    "    total = sum(values)\n",
    "    return total / len(values)\n",
    "\n",
    "promedio([30,50,40])"
   ]
  },
  {
   "cell_type": "code",
   "execution_count": 21,
   "metadata": {},
   "outputs": [
    {
     "name": "stdout",
     "output_type": "stream",
     "text": [
      "El tanque 1 tiene: 30%\n",
      "El tanque 2 tiene: 50%\n",
      "El tanque 3 tiene: 40%\n",
      "El promedio de los tanques es 40.0%\n",
      "\n"
     ]
    }
   ],
   "source": [
    "def informeTanques(tanque1, tanque2, tanque3):\n",
    "    return f\"\"\"El tanque 1 tiene: {tanque1}%\n",
    "El tanque 2 tiene: {tanque2}%\n",
    "El tanque 3 tiene: {tanque3}%\n",
    "El promedio de los tanques es {promedio([tanque1, tanque2, tanque3])}%\n",
    "\"\"\"\n",
    "\n",
    "print(informeTanques(30, 50, 40))"
   ]
  },
  {
   "cell_type": "markdown",
   "metadata": {},
   "source": [
    "## Ejercicio 2: Trabajo con argumentos de palabra clave"
   ]
  },
  {
   "cell_type": "code",
   "execution_count": 40,
   "metadata": {},
   "outputs": [
    {
     "name": "stdout",
     "output_type": "stream",
     "text": [
      "\n",
      "    el destino es: moon\n",
      "    el tiempo total es de: 65 minutos\n",
      "    el cobustible total es de: 500000\n",
      "    \n"
     ]
    }
   ],
   "source": [
    "def informePreciso(horaPrelanzamiento, tiempoVuelo, destino, tanqueExterno, tanqueInterno):\n",
    "    return f\"\"\"\n",
    "    el destino es: {destino}\n",
    "    el tiempo total es de: {horaPrelanzamiento + tiempoVuelo} minutos\n",
    "    el cobustible total es de: {tanqueInterno + tanqueExterno}\n",
    "    \"\"\"\n",
    "\n",
    "print(informePreciso(14, 51, \"moon\", 200000, 300000))"
   ]
  },
  {
   "cell_type": "code",
   "execution_count": 41,
   "metadata": {},
   "outputs": [
    {
     "name": "stdout",
     "output_type": "stream",
     "text": [
      "\n",
      "    el destino es: Moon\n",
      "    el tiempo total es de: 76 minutos\n",
      "    el combustible total es de: 500000\n"
     ]
    }
   ],
   "source": [
    "def informePreciso(destino, *minutos, **combustible):\n",
    "    return f\"\"\"\n",
    "    el destino es: {destino}\n",
    "    el tiempo total es de: {sum(minutos)} minutos\n",
    "    el combustible total es de: {sum(combustible.values())}\"\"\"\n",
    "\n",
    "print(informePreciso(\"Moon\", 10, 15, 51, tanqueExterno=200000, tanqueInterno=300000))"
   ]
  },
  {
   "cell_type": "code",
   "execution_count": 52,
   "metadata": {},
   "outputs": [
    {
     "name": "stdout",
     "output_type": "stream",
     "text": [
      "\n",
      "    el destino es: Moon\n",
      "    el tiempo total es de: 74 minutos\n",
      "    el combustible total es de: 500000\n",
      "    el tanqueExterno, tiene 200000 galones\n",
      "    el tanqueInterno, tiene 300000 galones\n",
      "    \n"
     ]
    }
   ],
   "source": [
    "def informePreciso(destino, *minutos, **combustible):\n",
    "    nuevoInformePreciso = f\"\"\"\n",
    "    el destino es: {destino}\n",
    "    el tiempo total es de: {sum(minutos)} minutos\n",
    "    el combustible total es de: {sum(combustible.values())}\n",
    "    \"\"\"\n",
    "    for tanques, galones in combustible.items():\n",
    "        nuevoInformePreciso += f\"el {tanques}, tiene {galones} galones\\n    \"\n",
    "    return nuevoInformePreciso\n",
    "\n",
    "print(informePreciso(\"Moon\", 8, 11, 55, tanqueExterno=200000, tanqueInterno=300000))"
   ]
  }
 ],
 "metadata": {
  "interpreter": {
   "hash": "20f3a3bb5160651777c944a024b20b27b2c35a96405cb542a3a32b8e971ae875"
  },
  "kernelspec": {
   "display_name": "Python 3.9.10 64-bit (windows store)",
   "language": "python",
   "name": "python3"
  },
  "language_info": {
   "codemirror_mode": {
    "name": "ipython",
    "version": 3
   },
   "file_extension": ".py",
   "mimetype": "text/x-python",
   "name": "python",
   "nbconvert_exporter": "python",
   "pygments_lexer": "ipython3",
   "version": "3.9.10"
  },
  "orig_nbformat": 4
 },
 "nbformat": 4,
 "nbformat_minor": 2
}
